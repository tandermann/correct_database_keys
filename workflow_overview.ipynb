{
 "cells": [
  {
   "cell_type": "markdown",
   "metadata": {},
   "source": [
    "# Cleaning database keys"
   ]
  },
  {
   "cell_type": "markdown",
   "metadata": {},
   "source": [
    "### The challenge\n",
    "Data scientists often rely on data retrieved from public databases. One issue particularly with big databases can be that there is no or insufficient quality control of the entered data. Here we work on a solution for the issues of different taxon names (due to misspellings or different taxonomy) in fossil databases, but the scripts can be applied to any database that is supposed to contain categorical data, yet contains inconsistent strings for many of these categories.\n",
    "\n",
    "\n"
   ]
  },
  {
   "cell_type": "markdown",
   "metadata": {},
   "source": [
    "The fossil data in this project is retrieved from a set of online databases, namely the Paleobiology Database ([PBDB](https://paleobiodb.org/#/)), [NOW](http://www.helsinki.fi/science/now/) database, [Sahul](https://www.nature.com/articles/sdata201653) database and [Neotoma](https://www.neotomadb.org/) database. All databases were download in their entirety and the data was joined by extracting only the columns of interest, which are the following:"
   ]
  },
  {
   "cell_type": "code",
   "execution_count": 8,
   "metadata": {
    "collapsed": false
   },
   "outputs": [
    {
     "name": "stdout",
     "output_type": "stream",
     "text": [
      "┌──────┬─────────┬─────────┬─────┬─────┬────────┬───────┬──────────┬───────────┐\n",
      "│ name │ max_age │ min_age │ lat │ lng │ family │ order │ database │ reference │\n",
      "└──────┴─────────┴─────────┴─────┴─────┴────────┴───────┴──────────┴───────────┘\n"
     ]
    }
   ],
   "source": [
    "import tabletext\n",
    "\n",
    "data = [['name','max_age','min_age','lat','lng','family','order','database','reference']]\n",
    "print(tabletext.to_text(data))"
   ]
  },
  {
   "cell_type": "markdown",
   "metadata": {
    "collapsed": true
   },
   "source": [
    "###### The fossil data file looks like this:"
   ]
  },
  {
   "cell_type": "code",
   "execution_count": 7,
   "metadata": {
    "collapsed": false
   },
   "outputs": [
    {
     "name": "stdout",
     "output_type": "stream",
     "text": [
      "name\tmax_age\tmin_age\tlat\tlng\tfamily\torder\tdatabase\n",
      "Aaptorcytes ivyi\t57.7\t57.3\t44.678056\t-106.978889\tPalaeoryctidae\tCimolesta\tnow\n",
      "Aaptorcytes ivyi\t57.3\t56.3\t44.678056\t-106.978889\tPalaeoryctidae\tCimolesta\tnow\n",
      "Aaptoryctes ivyi\t61.7\t56.8\t44.693604\t-108.3554\tPalaeoryctidae\tCimolesta\tpbdb\n",
      "Aaptoryctes ivyi\t56.8\t55.8\t44.299999\t-109.0\tPalaeoryctidae\tCimolesta\tpbdb\n",
      "Aaptoryctes ivyi\t61.7\t56.8\t42.700001\t-110.099998\tPalaeoryctidae\tCimolesta\tpbdb\n",
      "Abderites meridionalis\t17.5\t16.3\t-48.516666\t-69.716667\tAbderitidae\tPaucituberculata\tpbdb\n",
      "Abderites meridionalis\t16.3\t15.5\t-44.577498999999996\t-71.220833\tAbderitidae\tPaucituberculata\tpbdb\n",
      "Abderites meridionalis\t23.03\t15.97\t-45.666668\t-68.666664\tAbderitidae\tPaucituberculata\tpbdb\n",
      "Abderites meridionalis\t17.5\t16.3\t-50.599998\t-69.083336\tAbderitidae\tPaucituberculata\tpbdb\n"
     ]
    }
   ],
   "source": [
    "%%bash\n",
    "#skipping the reference column since it is very messy\n",
    "head -n 10 data/joined_databases.txt | cut -f 1-8"
   ]
  },
  {
   "cell_type": "markdown",
   "metadata": {},
   "source": [
    "###### The issue with the names in this database is that there are some misspellings, e.g.:"
   ]
  },
  {
   "cell_type": "code",
   "execution_count": 6,
   "metadata": {
    "collapsed": false
   },
   "outputs": [
    {
     "name": "stdout",
     "output_type": "stream",
     "text": [
      "Adunator fredericki\t63.3\t61.7\t41.301398999999996\t-107.735703\t\tMacroscelidea\tpbdb\n",
      "Adunator fredricki\t61.3\t60.9\t41.14555\t-104.80194399999999\tLitocheridae\tEulipotyphla\tnow\n"
     ]
    }
   ],
   "source": [
    "%%bash\n",
    "sed '1045q;d' data/joined_databases.txt | cut -f 1-8\n",
    "sed '1046q;d' data/joined_databases.txt | cut -f 1-8"
   ]
  },
  {
   "cell_type": "markdown",
   "metadata": {},
   "source": [
    "###### If we were to categorize the data, these would end up being two different taxa, even though they are both occurrences of the same species. We therefore need to join cases like this into the same category by clustering similar textstrings. However this clustering has to be done carfully since there are also cases where two different taxa names have very similar spellings and differ in only two letters as e.g.:\n"
   ]
  },
  {
   "cell_type": "code",
   "execution_count": 5,
   "metadata": {
    "collapsed": false
   },
   "outputs": [
    {
     "name": "stdout",
     "output_type": "stream",
     "text": [
      "Adjidaumo maximus\t33.9\t33.3\t42.400002\t-103.800003\tEomyidae\tRodentia\tpbdb\n",
      "Adjidaumo minimus\t36.5\t35.7\t43.029722\t-106.80916699999999\tEomyidae\tRodentia\tnow\n"
     ]
    }
   ],
   "source": [
    "%%bash\n",
    "sed '977q;d' data/joined_databases.txt | cut -f 1-8\n",
    "sed '978q;d' data/joined_databases.txt | cut -f 1-8"
   ]
  },
  {
   "cell_type": "markdown",
   "metadata": {},
   "source": [
    "###### These names should not be clustered but kept separately, as they represent two legitimate different categories (species)."
   ]
  },
  {
   "cell_type": "markdown",
   "metadata": {},
   "source": [
    "### Solution\n",
    "First, we calculate the pairwise distance between any pair of strings in the taxon list and store these in a similarity matrix, using a python function, which is stored in the bin directory:"
   ]
  },
  {
   "cell_type": "code",
   "execution_count": 3,
   "metadata": {
    "collapsed": true
   },
   "outputs": [],
   "source": [
    "import sys\n",
    "sys.path\n",
    "sys.path.append(\"./bin\")\n",
    "import create_simmatrix\n",
    "import pandas as pd\n",
    "from scipy.io import mmwrite\n",
    "import smart_clustering\n",
    "from IPython.display import display, HTML\n",
    "from scipy.io import mmread"
   ]
  },
  {
   "cell_type": "code",
   "execution_count": 19,
   "metadata": {
    "collapsed": false
   },
   "outputs": [
    {
     "name": "stdout",
     "output_type": "stream",
     "text": [
      "Processed 100/1051 rows of data\n",
      "Processed 200/1051 rows of data\n",
      "Processed 300/1051 rows of data\n",
      "Processed 400/1051 rows of data\n",
      "Processed 500/1051 rows of data\n",
      "Processed 600/1051 rows of data\n",
      "Processed 700/1051 rows of data\n",
      "Processed 800/1051 rows of data\n",
      "Processed 900/1051 rows of data\n",
      "Processed 1000/1051 rows of data\n"
     ]
    }
   ],
   "source": [
    "fossil_file = pd.read_csv('/Users/tobias/GitHub/correct_database_keys/data/joined_databases.txt',sep='\\t',low_memory=False)\n",
    "\n",
    "#reduce the original dataset to the first 1050 lines, for faster computation\n",
    "sample_set_fossil_file = fossil_file.loc[:1050]\n",
    "taxon_names = list(sample_set_fossil_file.name)\n",
    "\n",
    "matrix = create_simmatrix.create_simmatrix(taxon_names)\n",
    "\n",
    "# write to Matrix Market format for passing to DBSCAN\n",
    "#mmwrite('./intermediate_files/taxon_sim_names.mtx', matrix)\n"
   ]
  },
  {
   "cell_type": "code",
   "execution_count": 20,
   "metadata": {
    "collapsed": false,
    "scrolled": true
   },
   "outputs": [
    {
     "data": {
      "text/html": [
       "<div>\n",
       "<table border=\"1\" class=\"dataframe\">\n",
       "  <thead>\n",
       "    <tr style=\"text-align: right;\">\n",
       "      <th></th>\n",
       "      <th>0</th>\n",
       "    </tr>\n",
       "  </thead>\n",
       "  <tbody>\n",
       "    <tr>\n",
       "      <th>0</th>\n",
       "      <td>Cluster#0: Aaptorcytes ivyi, Aaptorcytes ivyi,...</td>\n",
       "    </tr>\n",
       "    <tr>\n",
       "      <th>1</th>\n",
       "      <td>Cluster#1: Abderites meridionalis, Abderites m...</td>\n",
       "    </tr>\n",
       "    <tr>\n",
       "      <th>2</th>\n",
       "      <td>Cluster#2: Abdounodus hamdii</td>\n",
       "    </tr>\n",
       "    <tr>\n",
       "      <th>3</th>\n",
       "      <td>Cluster#3: Abelmoschomys phthanus</td>\n",
       "    </tr>\n",
       "    <tr>\n",
       "      <th>4</th>\n",
       "      <td>Cluster#4: Abelmoschomys simpsoni, Abelmoschom...</td>\n",
       "    </tr>\n",
       "    <tr>\n",
       "      <th>5</th>\n",
       "      <td>Cluster#5: Abelmoschomys valensis, Abelmoschom...</td>\n",
       "    </tr>\n",
       "    <tr>\n",
       "      <th>6</th>\n",
       "      <td>Cluster#6: Abelmoschomys vasquezi</td>\n",
       "    </tr>\n",
       "    <tr>\n",
       "      <th>7</th>\n",
       "      <td>Cluster#7: Abeomelomys sevia, Abeomelomys sevi...</td>\n",
       "    </tr>\n",
       "    <tr>\n",
       "      <th>8</th>\n",
       "      <td>Cluster#8: Aboletylestes hypselus, Aboletylest...</td>\n",
       "    </tr>\n",
       "    <tr>\n",
       "      <th>9</th>\n",
       "      <td>Cluster#9: Aboletylestes robustus</td>\n",
       "    </tr>\n",
       "  </tbody>\n",
       "</table>\n",
       "</div>"
      ],
      "text/plain": [
       "                                                   0\n",
       "0  Cluster#0: Aaptorcytes ivyi, Aaptorcytes ivyi,...\n",
       "1  Cluster#1: Abderites meridionalis, Abderites m...\n",
       "2                       Cluster#2: Abdounodus hamdii\n",
       "3                  Cluster#3: Abelmoschomys phthanus\n",
       "4  Cluster#4: Abelmoschomys simpsoni, Abelmoschom...\n",
       "5  Cluster#5: Abelmoschomys valensis, Abelmoschom...\n",
       "6                  Cluster#6: Abelmoschomys vasquezi\n",
       "7  Cluster#7: Abeomelomys sevia, Abeomelomys sevi...\n",
       "8  Cluster#8: Aboletylestes hypselus, Aboletylest...\n",
       "9                  Cluster#9: Aboletylestes robustus"
      ]
     },
     "metadata": {},
     "output_type": "display_data"
    },
    {
     "name": "stdout",
     "output_type": "stream",
     "text": [
      "The data was reduced from 159 categories to 154 clusters\n"
     ]
    }
   ],
   "source": [
    "#matrix = mmread('./taxon_sim_names.mtx')\n",
    "\n",
    "#use the custom written function in the bin folder, which takes the simmatrix, a list of taxon names and the similarity threshold (between 0 and 1)\n",
    "clusters = smart_clustering.smart_cluster_based_on_matrix(matrix,taxon_names,0.1)\n",
    "\n",
    "display(clusters.head(10))\n",
    "#clusters.head(10).to_html()\n",
    "\n",
    "clusters.to_csv('./intermediate_files/clusters.txt', sep = '\\t', index = False, header=False)\n",
    "with open('./intermediate_files/clusters.txt', 'a') as file:\n",
    "    file.write('Original number of categories: %i' %len(set(taxon_names)))\n",
    "\n",
    "#pd.read_csv('./intermediate_files/clusters.txt',sep='\\t',header=None)    \n",
    "print('The data was reduced from %i categories to %i clusters' %(len(set(taxon_names)),len(clusters)))"
   ]
  },
  {
   "cell_type": "markdown",
   "metadata": {},
   "source": [
    "###### This clustering, based on a neuronal network algorithm, appears to take care of the issues. Different variations of the same taxon name base don mis-spellings are correctly joined in the same cluster,"
   ]
  },
  {
   "cell_type": "code",
   "execution_count": 3,
   "metadata": {
    "collapsed": false
   },
   "outputs": [
    {
     "name": "stdout",
     "output_type": "stream",
     "text": [
      "Cluster#152: Adunator fredericki, Adunator fredricki\n",
      "Cluster#140: Adilophontes brachykolos, Adilophontes brachykolos, Adilophontes brachykolos, Adilophontes brackykolos\n"
     ]
    }
   ],
   "source": [
    "%%bash\n",
    "sed '153q;d' intermediate_files/clusters.txt\n",
    "sed '141q;d' intermediate_files/clusters.txt"
   ]
  },
  {
   "cell_type": "markdown",
   "metadata": {},
   "source": [
    "###### ... while taxon names that are very similar and only differ in a few characters are correctly sorted into separate clusters."
   ]
  },
  {
   "cell_type": "code",
   "execution_count": 4,
   "metadata": {
    "collapsed": false
   },
   "outputs": [
    {
     "name": "stdout",
     "output_type": "stream",
     "text": [
      "Cluster#148: Adjidaumo maximus, Adjidaumo maximus, Adjidaumo maximus, Adjidaumo maximus, Adjidaumo maximus\n",
      "Cluster#149: Adjidaumo minimus, Adjidaumo minimus, Adjidaumo minimus, Adjidaumo minimus, Adjidaumo minimus, Adjidaumo minimus, Adjidaumo minimus, Adjidaumo minimus, Adjidaumo minimus, Adjidaumo minimus, Adjidaumo minimus, Adjidaumo minimus, Adjidaumo minimus, Adjidaumo minimus, Adjidaumo minimus, Adjidaumo minimus, Adjidaumo minimus, Adjidaumo minimus, Adjidaumo minimus, Adjidaumo minimus, Adjidaumo minimus, Adjidaumo minimus, Adjidaumo minimus, Adjidaumo minimus, Adjidaumo minimus, Adjidaumo minimus, Adjidaumo minimus\n",
      "Cluster#150: Adjidaumo minutus, Adjidaumo minutus, Adjidaumo minutus, Adjidaumo minutus, Adjidaumo minutus, Adjidaumo minutus, Adjidaumo minutus, Adjidaumo minutus, Adjidaumo minutus, Adjidaumo minutus, Adjidaumo minutus, Adjidaumo minutus, Adjidaumo minutus, Adjidaumo minutus, Adjidaumo minutus, Adjidaumo minutus, Adjidaumo minutus, Adjidaumo minutus, Adjidaumo minutus, Adjidaumo minutus, Adjidaumo minutus, Adjidaumo minutus, Adjidaumo minutus, Adjidaumo minutus, Adjidaumo minutus, Adjidaumo minutus, Adjidaumo minutus, Adjidaumo minutus, Adjidaumo minutus, Adjidaumo minutus, Adjidaumo minutus, Adjidaumo minutus, Adjidaumo minutus, Adjidaumo minutus, Adjidaumo minutus, Adjidaumo minutus, Adjidaumo minutus, Adjidaumo minutus, Adjidaumo minutus\n"
     ]
    }
   ],
   "source": [
    "%%bash\n",
    "sed '149q;d' intermediate_files/clusters.txt\n",
    "sed '150q;d' intermediate_files/clusters.txt\n",
    "sed '151q;d' intermediate_files/clusters.txt"
   ]
  },
  {
   "cell_type": "markdown",
   "metadata": {},
   "source": [
    "Besides spelling there is another issue, which has to do with the taxonomy for fossils changing through time, as new fossils are being uncovered, which sometimes leads to a taxon being assigned to a different genus. This introduces incosistencies in the databases, since different fossils of the same taxon may have been described at different times, using different genus names for the same taxon. Further there is much debate and disagreement in the paleoontological community, leading to different paleontologists sticking to different taxonomies.\n",
    "But there is some light at the end of the tunnel: Based on the genus epithet (which always stays consistent) and the information about the author and year of the first description of the taxon, we can resolve many of these taxonomic inconsistencies.\n",
    "\n",
    "Since the information of author and year of first description is not available in most fossil occurrence databases, we downloaded this information from the [Zoological Record database](http://wokinfo.com/products_tools/specialized/zr/), which contains a list of most described animal species, including the author and year of first description. This database also contains many variations of species names found in the literature (some of which are legitimate synonyms, some of which are spelling errors or disagreements). However, these synonyms and spelling incosistencies are not linked to each other. Therefore we apply the same fuzzy clustering algorithm as used on the fossil occurrence data above:"
   ]
  },
  {
   "cell_type": "code",
   "execution_count": 1,
   "metadata": {
    "collapsed": false
   },
   "outputs": [
    {
     "name": "stdout",
     "output_type": "stream",
     "text": [
      "Processed 100/1000 rows of data\n",
      "Processed 200/1000 rows of data\n",
      "Processed 300/1000 rows of data\n",
      "Processed 400/1000 rows of data\n",
      "Processed 500/1000 rows of data\n",
      "Processed 600/1000 rows of data\n",
      "Processed 700/1000 rows of data\n",
      "Processed 800/1000 rows of data\n",
      "Processed 900/1000 rows of data\n"
     ]
    }
   ],
   "source": [
    "import sys\n",
    "sys.path\n",
    "sys.path.append(\"./bin\")\n",
    "import create_simmatrix\n",
    "import smart_clustering\n",
    "import pandas as pd\n",
    "reference = pd.read_csv(\"./data/mammal_organismnames_unique.txt\",sep='\\t')\n",
    "reference_taxon_list = reference.Genus + ' ' + reference.Species\n",
    "reference_taxon_list = list(reference_taxon_list)\n",
    "\n",
    "#taking a subsample for faster computing\n",
    "subsample = reference_taxon_list[:1000]\n",
    "\n",
    "ref_matrix = create_simmatrix.create_simmatrix(subsample)"
   ]
  },
  {
   "cell_type": "code",
   "execution_count": 17,
   "metadata": {
    "collapsed": false
   },
   "outputs": [
    {
     "data": {
      "text/html": [
       "<div>\n",
       "<table border=\"1\" class=\"dataframe\">\n",
       "  <thead>\n",
       "    <tr style=\"text-align: right;\">\n",
       "      <th></th>\n",
       "      <th>0</th>\n",
       "    </tr>\n",
       "  </thead>\n",
       "  <tbody>\n",
       "    <tr>\n",
       "      <th>0</th>\n",
       "      <td>Cluster#0: Aaptoryctes ivyi</td>\n",
       "    </tr>\n",
       "    <tr>\n",
       "      <th>1</th>\n",
       "      <td>Cluster#1: Aatotomus placochton</td>\n",
       "    </tr>\n",
       "    <tr>\n",
       "      <th>2</th>\n",
       "      <td>Cluster#2: Abalosia castellanosi</td>\n",
       "    </tr>\n",
       "    <tr>\n",
       "      <th>3</th>\n",
       "      <td>Cluster#3: Abathmodon fossilis</td>\n",
       "    </tr>\n",
       "    <tr>\n",
       "      <th>4</th>\n",
       "      <td>Cluster#4: Abderites aisenense</td>\n",
       "    </tr>\n",
       "    <tr>\n",
       "      <th>5</th>\n",
       "      <td>Cluster#5: Abderites altiramis</td>\n",
       "    </tr>\n",
       "    <tr>\n",
       "      <th>6</th>\n",
       "      <td>Cluster#6: Abderites crassignathus</td>\n",
       "    </tr>\n",
       "    <tr>\n",
       "      <th>7</th>\n",
       "      <td>Cluster#7: Abderites crispulus, Abderites crispus</td>\n",
       "    </tr>\n",
       "    <tr>\n",
       "      <th>8</th>\n",
       "      <td>Cluster#8: Abderites meridionalis</td>\n",
       "    </tr>\n",
       "    <tr>\n",
       "      <th>9</th>\n",
       "      <td>Cluster#9: Abderites pristinus</td>\n",
       "    </tr>\n",
       "    <tr>\n",
       "      <th>10</th>\n",
       "      <td>Cluster#10: Abderites serratus</td>\n",
       "    </tr>\n",
       "    <tr>\n",
       "      <th>11</th>\n",
       "      <td>Cluster#11: Abderites tenuissimus</td>\n",
       "    </tr>\n",
       "    <tr>\n",
       "      <th>12</th>\n",
       "      <td>Cluster#12: Abelia pentelica</td>\n",
       "    </tr>\n",
       "    <tr>\n",
       "      <th>13</th>\n",
       "      <td>Cluster#13: Abelmoschomys simpsoni</td>\n",
       "    </tr>\n",
       "    <tr>\n",
       "      <th>14</th>\n",
       "      <td>Cluster#14: Abelodon abeli</td>\n",
       "    </tr>\n",
       "    <tr>\n",
       "      <th>15</th>\n",
       "      <td>Cluster#15: Abeomelomys sevia</td>\n",
       "    </tr>\n",
       "    <tr>\n",
       "      <th>16</th>\n",
       "      <td>Cluster#16: Aboletylestes hypselus</td>\n",
       "    </tr>\n",
       "    <tr>\n",
       "      <th>17</th>\n",
       "      <td>Cluster#17: Aboletylestes robustus</td>\n",
       "    </tr>\n",
       "    <tr>\n",
       "      <th>18</th>\n",
       "      <td>Cluster#18: Abothrodon pricei</td>\n",
       "    </tr>\n",
       "    <tr>\n",
       "      <th>19</th>\n",
       "      <td>Cluster#19: Abrawayaomys chebezi</td>\n",
       "    </tr>\n",
       "    <tr>\n",
       "      <th>20</th>\n",
       "      <td>Cluster#20: Abrawayaomys ruschi, Abrawayaomys ...</td>\n",
       "    </tr>\n",
       "    <tr>\n",
       "      <th>21</th>\n",
       "      <td>Cluster#21: Abrocoma antiqua</td>\n",
       "    </tr>\n",
       "    <tr>\n",
       "      <th>22</th>\n",
       "      <td>Cluster#22: Abrocoma benetti, Abrocoma bennett...</td>\n",
       "    </tr>\n",
       "    <tr>\n",
       "      <th>23</th>\n",
       "      <td>Cluster#23: Abrocoma boliviensis</td>\n",
       "    </tr>\n",
       "    <tr>\n",
       "      <th>24</th>\n",
       "      <td>Cluster#24: Abrocoma budini</td>\n",
       "    </tr>\n",
       "    <tr>\n",
       "      <th>25</th>\n",
       "      <td>Cluster#25: Abrocoma cinerea</td>\n",
       "    </tr>\n",
       "    <tr>\n",
       "      <th>26</th>\n",
       "      <td>Cluster#26: Abrocoma cuvieri</td>\n",
       "    </tr>\n",
       "    <tr>\n",
       "      <th>27</th>\n",
       "      <td>Cluster#27: Abrocoma famatina</td>\n",
       "    </tr>\n",
       "    <tr>\n",
       "      <th>28</th>\n",
       "      <td>Cluster#28: Abrocoma murrayi</td>\n",
       "    </tr>\n",
       "    <tr>\n",
       "      <th>29</th>\n",
       "      <td>Cluster#29: Abrocoma obiativa, Abrocoma oblativa</td>\n",
       "    </tr>\n",
       "    <tr>\n",
       "      <th>...</th>\n",
       "      <td>...</td>\n",
       "    </tr>\n",
       "    <tr>\n",
       "      <th>822</th>\n",
       "      <td>Cluster#822: Albertogaudrya robusta</td>\n",
       "    </tr>\n",
       "    <tr>\n",
       "      <th>823</th>\n",
       "      <td>Cluster#823: Albertogaudrya separata</td>\n",
       "    </tr>\n",
       "    <tr>\n",
       "      <th>824</th>\n",
       "      <td>Cluster#824: Albertogaudrya tersa</td>\n",
       "    </tr>\n",
       "    <tr>\n",
       "      <th>825</th>\n",
       "      <td>Cluster#825: Albertogaudrya unica</td>\n",
       "    </tr>\n",
       "    <tr>\n",
       "      <th>826</th>\n",
       "      <td>Cluster#826: Albertona aegeensis</td>\n",
       "    </tr>\n",
       "    <tr>\n",
       "      <th>827</th>\n",
       "      <td>Cluster#827: Albertona balkanica</td>\n",
       "    </tr>\n",
       "    <tr>\n",
       "      <th>828</th>\n",
       "      <td>Cluster#828: Albicetus oxymycterus</td>\n",
       "    </tr>\n",
       "    <tr>\n",
       "      <th>829</th>\n",
       "      <td>Cluster#829: Albionbaatar denisae</td>\n",
       "    </tr>\n",
       "    <tr>\n",
       "      <th>830</th>\n",
       "      <td>Cluster#830: Albireo savagei</td>\n",
       "    </tr>\n",
       "    <tr>\n",
       "      <th>831</th>\n",
       "      <td>Cluster#831: Albireo whistleri</td>\n",
       "    </tr>\n",
       "    <tr>\n",
       "      <th>832</th>\n",
       "      <td>Cluster#832: Alce americanus</td>\n",
       "    </tr>\n",
       "    <tr>\n",
       "      <th>833</th>\n",
       "      <td>Cluster#833: Alce gigantea</td>\n",
       "    </tr>\n",
       "    <tr>\n",
       "      <th>834</th>\n",
       "      <td>Cluster#834: Alcea alces, Alces alces, Alces a...</td>\n",
       "    </tr>\n",
       "    <tr>\n",
       "      <th>835</th>\n",
       "      <td>Cluster#835: Alcea americana</td>\n",
       "    </tr>\n",
       "    <tr>\n",
       "      <th>836</th>\n",
       "      <td>Cluster#836: Alcelaphu cokii, Alcelaphus cokei...</td>\n",
       "    </tr>\n",
       "    <tr>\n",
       "      <th>837</th>\n",
       "      <td>Cluster#837: Alcelaphus alce</td>\n",
       "    </tr>\n",
       "    <tr>\n",
       "      <th>838</th>\n",
       "      <td>Cluster#838: Alcelaphus bubalis</td>\n",
       "    </tr>\n",
       "    <tr>\n",
       "      <th>839</th>\n",
       "      <td>Cluster#839: Alcelaphus buscelaphus, Alcelaphu...</td>\n",
       "    </tr>\n",
       "    <tr>\n",
       "      <th>840</th>\n",
       "      <td>Cluster#840: Alcelaphus caama, Alcelaphus camaa</td>\n",
       "    </tr>\n",
       "    <tr>\n",
       "      <th>841</th>\n",
       "      <td>Cluster#841: Alcelaphus howardi</td>\n",
       "    </tr>\n",
       "    <tr>\n",
       "      <th>842</th>\n",
       "      <td>Cluster#842: Alcelaphus kattwinkeli, Alcephalu...</td>\n",
       "    </tr>\n",
       "    <tr>\n",
       "      <th>843</th>\n",
       "      <td>Cluster#843: Alcelaphus lelwel</td>\n",
       "    </tr>\n",
       "    <tr>\n",
       "      <th>844</th>\n",
       "      <td>Cluster#844: Alcelaphus lichiensteini, Alcelap...</td>\n",
       "    </tr>\n",
       "    <tr>\n",
       "      <th>845</th>\n",
       "      <td>Cluster#845: Alcelaphus luzarchei</td>\n",
       "    </tr>\n",
       "    <tr>\n",
       "      <th>846</th>\n",
       "      <td>Cluster#846: Alcelaphus major</td>\n",
       "    </tr>\n",
       "    <tr>\n",
       "      <th>847</th>\n",
       "      <td>Cluster#847: Alcelaphus robustus</td>\n",
       "    </tr>\n",
       "    <tr>\n",
       "      <th>848</th>\n",
       "      <td>Cluster#848: Alcelaphus suturosa</td>\n",
       "    </tr>\n",
       "    <tr>\n",
       "      <th>849</th>\n",
       "      <td>Cluster#849: Alcelaphus tora</td>\n",
       "    </tr>\n",
       "    <tr>\n",
       "      <th>850</th>\n",
       "      <td>Cluster#850: Alcephalus boselaphus</td>\n",
       "    </tr>\n",
       "    <tr>\n",
       "      <th>851</th>\n",
       "      <td>Cluster#851: Alcephalus sp.</td>\n",
       "    </tr>\n",
       "  </tbody>\n",
       "</table>\n",
       "<p>852 rows × 1 columns</p>\n",
       "</div>"
      ],
      "text/plain": [
       "                                                     0\n",
       "0                          Cluster#0: Aaptoryctes ivyi\n",
       "1                      Cluster#1: Aatotomus placochton\n",
       "2                     Cluster#2: Abalosia castellanosi\n",
       "3                       Cluster#3: Abathmodon fossilis\n",
       "4                       Cluster#4: Abderites aisenense\n",
       "5                       Cluster#5: Abderites altiramis\n",
       "6                   Cluster#6: Abderites crassignathus\n",
       "7    Cluster#7: Abderites crispulus, Abderites crispus\n",
       "8                    Cluster#8: Abderites meridionalis\n",
       "9                       Cluster#9: Abderites pristinus\n",
       "10                      Cluster#10: Abderites serratus\n",
       "11                   Cluster#11: Abderites tenuissimus\n",
       "12                        Cluster#12: Abelia pentelica\n",
       "13                  Cluster#13: Abelmoschomys simpsoni\n",
       "14                          Cluster#14: Abelodon abeli\n",
       "15                       Cluster#15: Abeomelomys sevia\n",
       "16                  Cluster#16: Aboletylestes hypselus\n",
       "17                  Cluster#17: Aboletylestes robustus\n",
       "18                       Cluster#18: Abothrodon pricei\n",
       "19                    Cluster#19: Abrawayaomys chebezi\n",
       "20   Cluster#20: Abrawayaomys ruschi, Abrawayaomys ...\n",
       "21                        Cluster#21: Abrocoma antiqua\n",
       "22   Cluster#22: Abrocoma benetti, Abrocoma bennett...\n",
       "23                    Cluster#23: Abrocoma boliviensis\n",
       "24                         Cluster#24: Abrocoma budini\n",
       "25                        Cluster#25: Abrocoma cinerea\n",
       "26                        Cluster#26: Abrocoma cuvieri\n",
       "27                       Cluster#27: Abrocoma famatina\n",
       "28                        Cluster#28: Abrocoma murrayi\n",
       "29    Cluster#29: Abrocoma obiativa, Abrocoma oblativa\n",
       "..                                                 ...\n",
       "822                Cluster#822: Albertogaudrya robusta\n",
       "823               Cluster#823: Albertogaudrya separata\n",
       "824                  Cluster#824: Albertogaudrya tersa\n",
       "825                  Cluster#825: Albertogaudrya unica\n",
       "826                   Cluster#826: Albertona aegeensis\n",
       "827                   Cluster#827: Albertona balkanica\n",
       "828                 Cluster#828: Albicetus oxymycterus\n",
       "829                  Cluster#829: Albionbaatar denisae\n",
       "830                       Cluster#830: Albireo savagei\n",
       "831                     Cluster#831: Albireo whistleri\n",
       "832                       Cluster#832: Alce americanus\n",
       "833                         Cluster#833: Alce gigantea\n",
       "834  Cluster#834: Alcea alces, Alces alces, Alces a...\n",
       "835                       Cluster#835: Alcea americana\n",
       "836  Cluster#836: Alcelaphu cokii, Alcelaphus cokei...\n",
       "837                       Cluster#837: Alcelaphus alce\n",
       "838                    Cluster#838: Alcelaphus bubalis\n",
       "839  Cluster#839: Alcelaphus buscelaphus, Alcelaphu...\n",
       "840    Cluster#840: Alcelaphus caama, Alcelaphus camaa\n",
       "841                    Cluster#841: Alcelaphus howardi\n",
       "842  Cluster#842: Alcelaphus kattwinkeli, Alcephalu...\n",
       "843                     Cluster#843: Alcelaphus lelwel\n",
       "844  Cluster#844: Alcelaphus lichiensteini, Alcelap...\n",
       "845                  Cluster#845: Alcelaphus luzarchei\n",
       "846                      Cluster#846: Alcelaphus major\n",
       "847                   Cluster#847: Alcelaphus robustus\n",
       "848                   Cluster#848: Alcelaphus suturosa\n",
       "849                       Cluster#849: Alcelaphus tora\n",
       "850                 Cluster#850: Alcephalus boselaphus\n",
       "851                        Cluster#851: Alcephalus sp.\n",
       "\n",
       "[852 rows x 1 columns]"
      ]
     },
     "metadata": {},
     "output_type": "display_data"
    },
    {
     "name": "stdout",
     "output_type": "stream",
     "text": [
      "The data was reduced from 1000 categories to 852 clusters\n"
     ]
    }
   ],
   "source": [
    "ref_clusters = smart_clustering.smart_cluster_based_on_matrix(ref_matrix,subsample,0.1)\n",
    "display(ref_clusters)\n",
    "ref_clusters.to_csv('./intermediate_files/reference_clusters.txt', sep = '\\t', index = False, header=False)\n",
    "with open('./intermediate_files/reference_clusters.txt', 'a') as file:\n",
    "    file.write('Original number of categories: %i' %len(set(subsample)))\n",
    "print('The data was reduced from %i categories to %i clusters' %(len(set(subsample)),len(ref_clusters)))\n"
   ]
  },
  {
   "cell_type": "markdown",
   "metadata": {},
   "source": [
    "###### As it turns out, some clusters contain strings that should be in separate clusters,"
   ]
  },
  {
   "cell_type": "code",
   "execution_count": 27,
   "metadata": {
    "collapsed": false
   },
   "outputs": [
    {
     "name": "stdout",
     "output_type": "stream",
     "text": [
      "Cluster#322: Acropithecus insulata, Acropithecus insulatus, Acropithecus lunulata, Acropithecus nucleatus\n",
      "Cluster#309: Acropithecus enectum, Acropithecus perfectum, Acropithecus rectum\n"
     ]
    }
   ],
   "source": [
    "%%bash\n",
    "sed '323q;d' intermediate_files/reference_clusters.txt\n",
    "sed '310q;d' intermediate_files/reference_clusters.txt"
   ]
  },
  {
   "cell_type": "markdown",
   "metadata": {},
   "source": [
    "###### while other names are found in separate clusters, which should be joined"
   ]
  },
  {
   "cell_type": "code",
   "execution_count": 26,
   "metadata": {
    "collapsed": false
   },
   "outputs": [
    {
     "name": "stdout",
     "output_type": "stream",
     "text": [
      "Cluster#832: Alce americanus\n",
      "Cluster#835: Alcea americana\n"
     ]
    }
   ],
   "source": [
    "%%bash\n",
    "sed '833q;d' intermediate_files/reference_clusters.txt\n",
    "sed '836q;d' intermediate_files/reference_clusters.txt"
   ]
  },
  {
   "cell_type": "markdown",
   "metadata": {},
   "source": [
    "###### We need to find a way to correct for this. One approach would be to weigh genus and species epithet for each taxon separately when doing the fuzzy matching (e.g. the genus is allowed to fluctuate a bit more, while the epithet has to match more precisely). We can weigh the similarity score with this formula for the simscore between any pair of taxa:\n",
    "$$S(total) = \\alpha * S(1) + (1-\\alpha) * S(2)$$\n",
    "###### with S(1) being the sim-score between the genus names and S(2) the simscore between epithets"
   ]
  },
  {
   "cell_type": "markdown",
   "metadata": {},
   "source": []
  },
  {
   "cell_type": "code",
   "execution_count": null,
   "metadata": {
    "collapsed": true
   },
   "outputs": [],
   "source": []
  }
 ],
 "metadata": {
  "kernelspec": {
   "display_name": "Python 3",
   "language": "python",
   "name": "python3"
  },
  "language_info": {
   "codemirror_mode": {
    "name": "ipython",
    "version": 3
   },
   "file_extension": ".py",
   "mimetype": "text/x-python",
   "name": "python",
   "nbconvert_exporter": "python",
   "pygments_lexer": "ipython3",
   "version": "3.6.0"
  }
 },
 "nbformat": 4,
 "nbformat_minor": 2
}
