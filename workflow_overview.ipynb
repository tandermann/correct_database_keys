{
 "cells": [
  {
   "cell_type": "markdown",
   "metadata": {},
   "source": [
    "# Cleaning database keys"
   ]
  },
  {
   "cell_type": "markdown",
   "metadata": {},
   "source": [
    "### The challenge\n",
    "Data scientists often rely on data retrieved from public databases. One issue particularly with big databases can be that there is no or insufficient quality control of the entered data. Here we work on a solution for the issues of different taxon names (due to misspellings or different taxonomy) in fossil databases, but the scripts can be applied to any database that is supposed to contain categorical data, yet contains inconsistent strings for many of these categories.\n",
    "\n",
    "\n"
   ]
  },
  {
   "cell_type": "markdown",
   "metadata": {},
   "source": [
    "The fossil data in this project is retrieved from a set of online databases, namely the Paleobiology Database ([PBDB](https://paleobiodb.org/#/)), [NOW](http://www.helsinki.fi/science/now/) database, [Sahul](https://www.nature.com/articles/sdata201653) database and [Neotoma](https://www.neotomadb.org/) database. All databases were download in their entirety and the data was joined by extracting only the columns of interest, which are the following:"
   ]
  },
  {
   "cell_type": "code",
   "execution_count": 8,
   "metadata": {
    "collapsed": false
   },
   "outputs": [
    {
     "name": "stdout",
     "output_type": "stream",
     "text": [
      "┌──────┬─────────┬─────────┬─────┬─────┬────────┬───────┬──────────┬───────────┐\n",
      "│ name │ max_age │ min_age │ lat │ lng │ family │ order │ database │ reference │\n",
      "└──────┴─────────┴─────────┴─────┴─────┴────────┴───────┴──────────┴───────────┘\n"
     ]
    }
   ],
   "source": [
    "import tabletext\n",
    "\n",
    "data = [['name','max_age','min_age','lat','lng','family','order','database','reference']]\n",
    "print(tabletext.to_text(data))"
   ]
  },
  {
   "cell_type": "markdown",
   "metadata": {
    "collapsed": true
   },
   "source": [
    "###### The fossil data file looks like this:"
   ]
  },
  {
   "cell_type": "code",
   "execution_count": 7,
   "metadata": {
    "collapsed": false
   },
   "outputs": [
    {
     "name": "stdout",
     "output_type": "stream",
     "text": [
      "name\tmax_age\tmin_age\tlat\tlng\tfamily\torder\tdatabase\n",
      "Aaptorcytes ivyi\t57.7\t57.3\t44.678056\t-106.978889\tPalaeoryctidae\tCimolesta\tnow\n",
      "Aaptorcytes ivyi\t57.3\t56.3\t44.678056\t-106.978889\tPalaeoryctidae\tCimolesta\tnow\n",
      "Aaptoryctes ivyi\t61.7\t56.8\t44.693604\t-108.3554\tPalaeoryctidae\tCimolesta\tpbdb\n",
      "Aaptoryctes ivyi\t56.8\t55.8\t44.299999\t-109.0\tPalaeoryctidae\tCimolesta\tpbdb\n",
      "Aaptoryctes ivyi\t61.7\t56.8\t42.700001\t-110.099998\tPalaeoryctidae\tCimolesta\tpbdb\n",
      "Abderites meridionalis\t17.5\t16.3\t-48.516666\t-69.716667\tAbderitidae\tPaucituberculata\tpbdb\n",
      "Abderites meridionalis\t16.3\t15.5\t-44.577498999999996\t-71.220833\tAbderitidae\tPaucituberculata\tpbdb\n",
      "Abderites meridionalis\t23.03\t15.97\t-45.666668\t-68.666664\tAbderitidae\tPaucituberculata\tpbdb\n",
      "Abderites meridionalis\t17.5\t16.3\t-50.599998\t-69.083336\tAbderitidae\tPaucituberculata\tpbdb\n"
     ]
    }
   ],
   "source": [
    "%%bash\n",
    "#skipping the reference column since it is very messy\n",
    "head -n 10 data/joined_databases.txt | cut -f 1-8"
   ]
  },
  {
   "cell_type": "markdown",
   "metadata": {},
   "source": [
    "###### The issue with the names in this database is that there are some misspellings, e.g.:"
   ]
  },
  {
   "cell_type": "code",
   "execution_count": 6,
   "metadata": {
    "collapsed": false
   },
   "outputs": [
    {
     "name": "stdout",
     "output_type": "stream",
     "text": [
      "Adunator fredericki\t63.3\t61.7\t41.301398999999996\t-107.735703\t\tMacroscelidea\tpbdb\n",
      "Adunator fredricki\t61.3\t60.9\t41.14555\t-104.80194399999999\tLitocheridae\tEulipotyphla\tnow\n"
     ]
    }
   ],
   "source": [
    "%%bash\n",
    "sed '1045q;d' data/joined_databases.txt | cut -f 1-8\n",
    "sed '1046q;d' data/joined_databases.txt | cut -f 1-8"
   ]
  },
  {
   "cell_type": "markdown",
   "metadata": {},
   "source": [
    "###### If we were to categorize the data, these would end up being two different taxa, even though they are both occurrences of the same species. We therefore need to join cases like this into the same category by clustering similar textstrings. However this clustering has to be done carfully since there are also cases where two different taxa names have very similar spellings and differ in only two letters as e.g.:\n"
   ]
  },
  {
   "cell_type": "code",
   "execution_count": 5,
   "metadata": {
    "collapsed": false
   },
   "outputs": [
    {
     "name": "stdout",
     "output_type": "stream",
     "text": [
      "Adjidaumo maximus\t33.9\t33.3\t42.400002\t-103.800003\tEomyidae\tRodentia\tpbdb\n",
      "Adjidaumo minimus\t36.5\t35.7\t43.029722\t-106.80916699999999\tEomyidae\tRodentia\tnow\n"
     ]
    }
   ],
   "source": [
    "%%bash\n",
    "sed '977q;d' data/joined_databases.txt | cut -f 1-8\n",
    "sed '978q;d' data/joined_databases.txt | cut -f 1-8"
   ]
  },
  {
   "cell_type": "markdown",
   "metadata": {},
   "source": [
    "###### These names should not be clustered but kept separately, as they represent two legitimate different categories (species)."
   ]
  },
  {
   "cell_type": "markdown",
   "metadata": {},
   "source": [
    "### Solution\n",
    "First, we calculate the pairwise distance between any pair of strings in the taxon list and store these in a similarity matrix, using a python function, which is stored in the bin directory:"
   ]
  },
  {
   "cell_type": "code",
   "execution_count": 1,
   "metadata": {
    "collapsed": false
   },
   "outputs": [
    {
     "name": "stdout",
     "output_type": "stream",
     "text": [
      "Processed 100/1051 rows of data\n",
      "Processed 200/1051 rows of data\n",
      "Processed 300/1051 rows of data\n",
      "Processed 400/1051 rows of data\n",
      "Processed 500/1051 rows of data\n",
      "Processed 600/1051 rows of data\n",
      "Processed 700/1051 rows of data\n",
      "Processed 800/1051 rows of data\n",
      "Processed 900/1051 rows of data\n",
      "Processed 1000/1051 rows of data\n"
     ]
    }
   ],
   "source": [
    "import sys\n",
    "sys.path\n",
    "sys.path.append(\"./bin\")\n",
    "import create_simmatrix\n",
    "import pandas as pd\n",
    "from scipy.io import mmwrite\n",
    "\n",
    "fossil_file = pd.read_csv('/Users/tobias/GitHub/correct_database_keys/data/joined_databases.txt',sep='\\t',low_memory=False)\n",
    "\n",
    "#reduce the original dataset to the first 1050 lines, for faster computation\n",
    "sample_set_fossil_file = fossil_file.loc[:1050]\n",
    "taxon_names = list(sample_set_fossil_file.name)\n",
    "\n",
    "matrix = create_simmatrix.create_simmatrix(taxon_names)\n",
    "\n",
    "# write to Matrix Market format for passing to DBSCAN\n",
    "#mmwrite('./intermediate_files/taxon_sim_names.mtx', matrix)\n"
   ]
  },
  {
   "cell_type": "code",
   "execution_count": 2,
   "metadata": {
    "collapsed": false,
    "scrolled": true
   },
   "outputs": [
    {
     "data": {
      "text/html": [
       "<div>\n",
       "<table border=\"1\" class=\"dataframe\">\n",
       "  <thead>\n",
       "    <tr style=\"text-align: right;\">\n",
       "      <th></th>\n",
       "      <th>0</th>\n",
       "    </tr>\n",
       "  </thead>\n",
       "  <tbody>\n",
       "    <tr>\n",
       "      <th>0</th>\n",
       "      <td>Cluster#0: Aaptorcytes ivyi, Aaptorcytes ivyi,...</td>\n",
       "    </tr>\n",
       "    <tr>\n",
       "      <th>1</th>\n",
       "      <td>Cluster#1: Abderites meridionalis, Abderites m...</td>\n",
       "    </tr>\n",
       "    <tr>\n",
       "      <th>2</th>\n",
       "      <td>Cluster#2: Abdounodus hamdii</td>\n",
       "    </tr>\n",
       "    <tr>\n",
       "      <th>3</th>\n",
       "      <td>Cluster#3: Abelmoschomys phthanus</td>\n",
       "    </tr>\n",
       "    <tr>\n",
       "      <th>4</th>\n",
       "      <td>Cluster#4: Abelmoschomys simpsoni, Abelmoschom...</td>\n",
       "    </tr>\n",
       "    <tr>\n",
       "      <th>5</th>\n",
       "      <td>Cluster#5: Abelmoschomys valensis, Abelmoschom...</td>\n",
       "    </tr>\n",
       "    <tr>\n",
       "      <th>6</th>\n",
       "      <td>Cluster#6: Abelmoschomys vasquezi</td>\n",
       "    </tr>\n",
       "    <tr>\n",
       "      <th>7</th>\n",
       "      <td>Cluster#7: Abeomelomys sevia, Abeomelomys sevi...</td>\n",
       "    </tr>\n",
       "    <tr>\n",
       "      <th>8</th>\n",
       "      <td>Cluster#8: Aboletylestes hypselus, Aboletylest...</td>\n",
       "    </tr>\n",
       "    <tr>\n",
       "      <th>9</th>\n",
       "      <td>Cluster#9: Aboletylestes robustus</td>\n",
       "    </tr>\n",
       "  </tbody>\n",
       "</table>\n",
       "</div>"
      ],
      "text/plain": [
       "                                                   0\n",
       "0  Cluster#0: Aaptorcytes ivyi, Aaptorcytes ivyi,...\n",
       "1  Cluster#1: Abderites meridionalis, Abderites m...\n",
       "2                       Cluster#2: Abdounodus hamdii\n",
       "3                  Cluster#3: Abelmoschomys phthanus\n",
       "4  Cluster#4: Abelmoschomys simpsoni, Abelmoschom...\n",
       "5  Cluster#5: Abelmoschomys valensis, Abelmoschom...\n",
       "6                  Cluster#6: Abelmoschomys vasquezi\n",
       "7  Cluster#7: Abeomelomys sevia, Abeomelomys sevi...\n",
       "8  Cluster#8: Aboletylestes hypselus, Aboletylest...\n",
       "9                  Cluster#9: Aboletylestes robustus"
      ]
     },
     "metadata": {},
     "output_type": "display_data"
    }
   ],
   "source": [
    "import smart_clustering\n",
    "from IPython.display import display, HTML\n",
    "from scipy.io import mmread\n",
    "\n",
    "#matrix = mmread('./taxon_sim_names.mtx')\n",
    "\n",
    "clusters = smart_clustering.smart_cluster_based_on_matrix(matrix,taxon_names)\n",
    "\n",
    "display(clusters.head(10))\n",
    "#clusters.head(10).to_html()\n",
    "\n",
    "clusters.to_csv('/Users/tobias/GitHub/correct_database_keys/intermediate_files/clusters.txt', sep = '\\t', index = False, header=False)\n",
    "with open('/Users/tobias/GitHub/correct_database_keys/intermediate_files/clusters.txt', 'a') as file:\n",
    "    file.write('Original number of categories: %i' %len(set(taxon_names)))\n"
   ]
  },
  {
   "cell_type": "markdown",
   "metadata": {},
   "source": [
    "###### This clustering, based on a neuronal network algorithm, appears to take care of the issues. Different variations of the same taxon name base don mis-spellings are correctly joined in the same cluster,"
   ]
  },
  {
   "cell_type": "code",
   "execution_count": 3,
   "metadata": {
    "collapsed": false
   },
   "outputs": [
    {
     "name": "stdout",
     "output_type": "stream",
     "text": [
      "Cluster#152: Adunator fredericki, Adunator fredricki\n",
      "Cluster#140: Adilophontes brachykolos, Adilophontes brachykolos, Adilophontes brachykolos, Adilophontes brackykolos\n"
     ]
    }
   ],
   "source": [
    "%%bash\n",
    "sed '153q;d' intermediate_files/clusters.txt\n",
    "sed '141q;d' intermediate_files/clusters.txt"
   ]
  },
  {
   "cell_type": "markdown",
   "metadata": {},
   "source": [
    "###### ... while taxon names that are very similar and only differ in a few characters are correctly sorted into separate clusters."
   ]
  },
  {
   "cell_type": "code",
   "execution_count": 4,
   "metadata": {
    "collapsed": false
   },
   "outputs": [
    {
     "name": "stdout",
     "output_type": "stream",
     "text": [
      "Cluster#148: Adjidaumo maximus, Adjidaumo maximus, Adjidaumo maximus, Adjidaumo maximus, Adjidaumo maximus\n",
      "Cluster#149: Adjidaumo minimus, Adjidaumo minimus, Adjidaumo minimus, Adjidaumo minimus, Adjidaumo minimus, Adjidaumo minimus, Adjidaumo minimus, Adjidaumo minimus, Adjidaumo minimus, Adjidaumo minimus, Adjidaumo minimus, Adjidaumo minimus, Adjidaumo minimus, Adjidaumo minimus, Adjidaumo minimus, Adjidaumo minimus, Adjidaumo minimus, Adjidaumo minimus, Adjidaumo minimus, Adjidaumo minimus, Adjidaumo minimus, Adjidaumo minimus, Adjidaumo minimus, Adjidaumo minimus, Adjidaumo minimus, Adjidaumo minimus, Adjidaumo minimus\n",
      "Cluster#150: Adjidaumo minutus, Adjidaumo minutus, Adjidaumo minutus, Adjidaumo minutus, Adjidaumo minutus, Adjidaumo minutus, Adjidaumo minutus, Adjidaumo minutus, Adjidaumo minutus, Adjidaumo minutus, Adjidaumo minutus, Adjidaumo minutus, Adjidaumo minutus, Adjidaumo minutus, Adjidaumo minutus, Adjidaumo minutus, Adjidaumo minutus, Adjidaumo minutus, Adjidaumo minutus, Adjidaumo minutus, Adjidaumo minutus, Adjidaumo minutus, Adjidaumo minutus, Adjidaumo minutus, Adjidaumo minutus, Adjidaumo minutus, Adjidaumo minutus, Adjidaumo minutus, Adjidaumo minutus, Adjidaumo minutus, Adjidaumo minutus, Adjidaumo minutus, Adjidaumo minutus, Adjidaumo minutus, Adjidaumo minutus, Adjidaumo minutus, Adjidaumo minutus, Adjidaumo minutus, Adjidaumo minutus\n"
     ]
    }
   ],
   "source": [
    "%%bash\n",
    "sed '149q;d' intermediate_files/clusters.txt\n",
    "sed '150q;d' intermediate_files/clusters.txt\n",
    "sed '151q;d' intermediate_files/clusters.txt"
   ]
  },
  {
   "cell_type": "markdown",
   "metadata": {},
   "source": [
    "Besides spelling there is another issue, which has to do with the taxonomy for fossils changing through time, as new fossils are being uncovered, which sometimes leads to a taxon being assigned to a different genus. This introduces incosistencies in the databases, since different fossils of the same taxon may have been described at different times, using different genus names for the same taxon. Further there is much debate and disagreement in the paleoontological community, leading to different paleontologists sticking to different taxonomies.\n",
    "But there is some light at the end of the tunnel: Based on the genus epithet (which always stays consistent) and the information about the author and year of the first description of the taxon, we can resolve many of these taxonomic inconsistencies.\n",
    "\n",
    "Since the information of author and year of first description is not available in most fossil occurrence databases, we downloaded this information from the [Zoological Record database](http://wokinfo.com/products_tools/specialized/zr/), which contains a list of most described animal species, including the author and year of first description. This database also contains many variations of species names found in the literature (some of which are legitimate synonyms, some of which are spelling errors or disagreements). However, these synonyms and spelling incosistencies are not linked to each other. Therefore we apply the same fuzzy clustering algorithm as used on the fossil occurrence data above:"
   ]
  },
  {
   "cell_type": "code",
   "execution_count": null,
   "metadata": {
    "collapsed": true
   },
   "outputs": [],
   "source": []
  }
 ],
 "metadata": {
  "kernelspec": {
   "display_name": "Python 3",
   "language": "python",
   "name": "python3"
  },
  "language_info": {
   "codemirror_mode": {
    "name": "ipython",
    "version": 3
   },
   "file_extension": ".py",
   "mimetype": "text/x-python",
   "name": "python",
   "nbconvert_exporter": "python",
   "pygments_lexer": "ipython3",
   "version": "3.6.0"
  }
 },
 "nbformat": 4,
 "nbformat_minor": 2
}
